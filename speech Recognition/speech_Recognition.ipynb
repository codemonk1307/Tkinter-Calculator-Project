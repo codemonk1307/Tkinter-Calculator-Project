{
 "cells": [
  {
   "cell_type": "code",
   "execution_count": null,
   "metadata": {},
   "outputs": [],
   "source": [
    "pip install pyttsx3"
   ]
  },
  {
   "cell_type": "code",
   "execution_count": 4,
   "metadata": {},
   "outputs": [
    {
     "name": "stdout",
     "output_type": "stream",
     "text": [
      "Collecting SpeechRecognition\n",
      "  Downloading SpeechRecognition-3.8.1-py2.py3-none-any.whl (32.8 MB)\n",
      "Installing collected packages: SpeechRecognition\n",
      "Successfully installed SpeechRecognition-3.8.1\n",
      "Note: you may need to restart the kernel to use updated packages.\n"
     ]
    }
   ],
   "source": [
    "pip install SpeechRecognition"
   ]
  },
  {
   "cell_type": "code",
   "execution_count": 13,
   "metadata": {},
   "outputs": [
    {
     "name": "stdout",
     "output_type": "stream",
     "text": [
      "Collecting package metadata (current_repodata.json): ...working... done\n",
      "Solving environment: ...working... done\n",
      "\n",
      "# All requested packages already installed.\n",
      "\n",
      "\n",
      "Note: you may need to restart the kernel to use updated packages.\n"
     ]
    }
   ],
   "source": [
    "conda install pyaudio"
   ]
  },
  {
   "cell_type": "code",
   "execution_count": 5,
   "metadata": {},
   "outputs": [],
   "source": [
    "# Import all the required modules\n",
    "import os\n",
    "import pyttsx3\n",
    "import speech_recognition as sr "
   ]
  },
  {
   "cell_type": "code",
   "execution_count": 24,
   "metadata": {},
   "outputs": [],
   "source": [
    "# Creating Class\n",
    "class codemonk1307:\n",
    "    \n",
    "    # function to take the user's choice commands as input\n",
    "    def takeCommands(self):\n",
    "        # using recognizer and microphone method for input voice commands\n",
    "        r = sr.Recognizer()\n",
    "        \n",
    "        with sr.Microphone() as source:\n",
    "            print(\"Listening\")\n",
    "            # number of seconds of non-speaking audio before a phrase is considered complete\n",
    "            r.pause_threshold = 0.8\n",
    "            audio = r.listen(source)\n",
    "\n",
    "            # input Voice is identified\n",
    "            try:\n",
    "                # listening voice commands in indian english\n",
    "                print(\"Recognizing\")\n",
    "                Query = r.recognize_google(audio, language = \"en-in\")\n",
    "\n",
    "                # displaying the voice command\n",
    "                print(\"the query is =\", Query, \"'\")\n",
    "            \n",
    "            except Exception as e:\n",
    "                # display the exception errors\n",
    "                print(e)\n",
    "                # handling Exception\n",
    "                print(\"Say that again sir\")\n",
    "                return \"None\"\n",
    "            \n",
    "        return Query\n",
    "    \n",
    "    \n",
    "    # method/funcion for generating Voice output\n",
    "    def Speak(self, audio):\n",
    "        \n",
    "        # constructor call for pyttsx3.init()\n",
    "        engine = pyttsx3.init(\"sapi5\")\n",
    "        \n",
    "        # setting voice type and its id\n",
    "        voices = engine.getProperty(\"voices\")\n",
    "        \n",
    "        engine.setProperty(\"voice\", voices[0].id)\n",
    "        engine.say(audio)\n",
    "        engine.runAndWait()\n",
    "        \n",
    "    \n",
    "    # method to self shut down system\n",
    "    def quitSelf(self):\n",
    "        \n",
    "        self.Speak(\"sir do u want the system to shut down\")\n",
    "        # input voice command\n",
    "        take = self.takeCommands()\n",
    "        choice = take\n",
    "        \n",
    "        if \"yes\" in choice:\n",
    "            # shutting down\n",
    "            print(\"shutting down the PC\")\n",
    "            self.Speak(\"Shutting your Computer\")\n",
    "            os.system(\"shutdown /s /t 30\")\n",
    "\n",
    "        if \"no\" in choice:\n",
    "            # IDLE\n",
    "            print(\"thank you sir\")\n",
    "            self.Speak(\"thank you sir\")"
   ]
  },
  {
   "cell_type": "code",
   "execution_count": 25,
   "metadata": {},
   "outputs": [
    {
     "name": "stdout",
     "output_type": "stream",
     "text": [
      "Listening\n",
      "Recognizing\n",
      "\n",
      "Say that again sir\n"
     ]
    }
   ],
   "source": [
    "# Driver's Code\n",
    "if __name__ == \"__main__\":\n",
    "    fool = codemonk1307()\n",
    "    fool.quitSelf()"
   ]
  },
  {
   "cell_type": "code",
   "execution_count": null,
   "metadata": {},
   "outputs": [],
   "source": []
  }
 ],
 "metadata": {
  "kernelspec": {
   "display_name": "Python 3",
   "language": "python",
   "name": "python3"
  },
  "language_info": {
   "codemirror_mode": {
    "name": "ipython",
    "version": 3
   },
   "file_extension": ".py",
   "mimetype": "text/x-python",
   "name": "python",
   "nbconvert_exporter": "python",
   "pygments_lexer": "ipython3",
   "version": "3.8.5"
  }
 },
 "nbformat": 4,
 "nbformat_minor": 4
}
